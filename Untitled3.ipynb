{
  "nbformat": 4,
  "nbformat_minor": 0,
  "metadata": {
    "colab": {
      "provenance": [],
      "toc_visible": true,
      "mount_file_id": "1JGFnNPem2FRNpqIoE2rHp1UNuO5N-K5O",
      "authorship_tag": "ABX9TyM1XvfUVp3rCYuIeb4ePdF7",
      "include_colab_link": true
    },
    "kernelspec": {
      "name": "python3",
      "display_name": "Python 3"
    },
    "language_info": {
      "name": "python"
    }
  },
  "cells": [
    {
      "cell_type": "markdown",
      "metadata": {
        "id": "view-in-github",
        "colab_type": "text"
      },
      "source": [
        "<a href=\"https://colab.research.google.com/github/R-Garcia-B/lab1_103/blob/main/Untitled3.ipynb\" target=\"_parent\"><img src=\"https://colab.research.google.com/assets/colab-badge.svg\" alt=\"Open In Colab\"/></a>"
      ]
    },
    {
      "cell_type": "code",
      "source": [
        "from google.colab import drive\n",
        "drive.mount('/content/drive')"
      ],
      "metadata": {
        "colab": {
          "base_uri": "https://localhost:8080/"
        },
        "id": "Srgl0kiiw8KW",
        "outputId": "eadf2495-c288-4992-8c60-deb07a97b841"
      },
      "execution_count": 2,
      "outputs": [
        {
          "output_type": "stream",
          "name": "stdout",
          "text": [
            "Drive already mounted at /content/drive; to attempt to forcibly remount, call drive.mount(\"/content/drive\", force_remount=True).\n"
          ]
        }
      ]
    },
    {
      "cell_type": "code",
      "execution_count": 3,
      "metadata": {
        "colab": {
          "base_uri": "https://localhost:8080/"
        },
        "id": "oE6ChRKpwyVM",
        "outputId": "27df6fda-6b52-461b-d1c1-769dd3ceeeba"
      },
      "outputs": [
        {
          "output_type": "stream",
          "name": "stdout",
          "text": [
            "America/New_York\n"
          ]
        },
        {
          "output_type": "execute_result",
          "data": {
            "text/plain": [
              "America/New_York       1251\n",
              "Unknow                  521\n",
              "America/Chicago         400\n",
              "America/Los_Angeles     382\n",
              "America/Denver          191\n",
              "Missing                 120\n",
              "Europe/London            74\n",
              "Asia/Tokyo               37\n",
              "Pacific/Honolulu         36\n",
              "Europe/Madrid            35\n",
              "Name: tz, dtype: int64"
            ]
          },
          "metadata": {},
          "execution_count": 3
        }
      ],
      "source": [
        "from typing import Counter\n",
        "import pandas as pd\n",
        "import matplotlib.pyplot as plt\n",
        "import json\n",
        "\n",
        "path = \"/content/drive/MyDrive/Conjunto de datos /example.txt\"\n",
        "\n",
        "records = [json.loads(line) for line in open(path)]\n",
        "\n",
        "#open(path).readline()\n",
        "#records[0]\n",
        "\n",
        "records[0]['tz']\n",
        "\n",
        "print (records[0]['tz'])\n",
        "time_zones = [rec['tz'] for rec in records if 'tz' in rec]\n",
        "time_zones[:10]\n",
        "\n",
        "from collections import defaultdict\n",
        "\n",
        "def get_counts(sequence):\n",
        "  counts = {}\n",
        "  for x in sequence:\n",
        "   if x in counts:\n",
        "    counts[x] += 1\n",
        "   else:\n",
        "    counts[x] = 1\n",
        "  return counts\n",
        "\n",
        "counts = get_counts(time_zones)\n",
        "\n",
        "counts['America/New_York']\n",
        "len(time_zones)\n",
        "\n",
        "def top_counts(count_dict, n=10):\n",
        "  value_key_pairs = [(count, tz) for tz, count in count_dict.items()]\n",
        "  value_key_pairs.sort()\n",
        "  return value_key_pairs[-n:]\n",
        "\n",
        "  top_counts(counts)\n",
        "\n",
        "  from collections import Counter\n",
        "  counts = Counter(time_zones)\n",
        "  counts.most_common(10)\n",
        "\n",
        "from pandas import DataFrame, Series\n",
        "frame = DataFrame(records)\n",
        "frame\n",
        "\n",
        "frame['tz'][:10]\n",
        "\n",
        "tz_counts = frame['tz'].value_counts()\n",
        "tz_counts[:10]\n",
        "\n",
        "clean_tz = frame['tz'].fillna('Missing')\n",
        "clean_tz[clean_tz == ''] = 'Unknow'\n",
        "tz_counts = clean_tz.value_counts()\n",
        "tz_counts[:10]"
      ]
    }
  ]
}